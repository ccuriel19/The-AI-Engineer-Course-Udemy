{
 "cells": [
  {
   "cell_type": "code",
   "execution_count": 1,
   "id": "80024737-72d6-4bc7-b719-3074327522b4",
   "metadata": {},
   "outputs": [],
   "source": [
    "sentence = \"Her cat's name is Luna\""
   ]
  },
  {
   "cell_type": "code",
   "execution_count": 2,
   "id": "26530535-179b-43c3-beca-0e1882e5cd25",
   "metadata": {},
   "outputs": [],
   "source": [
    "lower_sentence = sentence.lower()"
   ]
  },
  {
   "cell_type": "code",
   "execution_count": 3,
   "id": "3a2dccbc-a4e4-4261-941e-cf469ba2af26",
   "metadata": {},
   "outputs": [
    {
     "name": "stdout",
     "output_type": "stream",
     "text": [
      "her cat's name is luna\n"
     ]
    }
   ],
   "source": [
    "print(lower_sentence)"
   ]
  },
  {
   "cell_type": "code",
   "execution_count": 4,
   "id": "9f34f6b8-4200-4eba-9402-c5d794c6a5be",
   "metadata": {},
   "outputs": [],
   "source": [
    "sentence_list = [\"Could you pass me the TV remote?\",\n",
    "                 \"It is IMPOSSIBLE to find this hotel\",\n",
    "                 \"Want to go for dinner on Tuesday?\"]"
   ]
  },
  {
   "cell_type": "code",
   "execution_count": 5,
   "id": "39033a3b-3530-4c25-ba5f-7c56c3918109",
   "metadata": {},
   "outputs": [],
   "source": [
    "lower_sentence_list = [x.lower() for x in sentence_list]"
   ]
  },
  {
   "cell_type": "code",
   "execution_count": 6,
   "id": "2da11abf-01d4-4059-9763-1056850e9a84",
   "metadata": {},
   "outputs": [
    {
     "name": "stdout",
     "output_type": "stream",
     "text": [
      "['could you pass me the tv remote?', 'it is impossible to find this hotel', 'want to go for dinner on tuesday?']\n"
     ]
    }
   ],
   "source": [
    "print(lower_sentence_list)"
   ]
  },
  {
   "cell_type": "code",
   "execution_count": null,
   "id": "1776b6d6-bb20-442f-87fb-2d9737a046c5",
   "metadata": {},
   "outputs": [],
   "source": []
  }
 ],
 "metadata": {
  "kernelspec": {
   "display_name": "Python [conda env:base] *",
   "language": "python",
   "name": "conda-base-py"
  },
  "language_info": {
   "codemirror_mode": {
    "name": "ipython",
    "version": 3
   },
   "file_extension": ".py",
   "mimetype": "text/x-python",
   "name": "python",
   "nbconvert_exporter": "python",
   "pygments_lexer": "ipython3",
   "version": "3.12.7"
  }
 },
 "nbformat": 4,
 "nbformat_minor": 5
}
