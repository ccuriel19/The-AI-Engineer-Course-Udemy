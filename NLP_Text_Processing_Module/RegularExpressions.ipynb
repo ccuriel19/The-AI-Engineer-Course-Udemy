{
 "cells": [
  {
   "cell_type": "code",
   "execution_count": 1,
   "id": "ccc9d7b6-41ab-48d0-9cf7-c4dda51d768c",
   "metadata": {},
   "outputs": [],
   "source": [
    "import re"
   ]
  },
  {
   "cell_type": "code",
   "execution_count": 2,
   "id": "ab8e250e-4b98-41fb-90d4-45d7933a6121",
   "metadata": {},
   "outputs": [
    {
     "name": "stdout",
     "output_type": "stream",
     "text": [
      "C:\\desktop\\notes\n"
     ]
    }
   ],
   "source": [
    "my_folder = r\"C:\\desktop\\notes\"\n",
    "print(my_folder)"
   ]
  },
  {
   "cell_type": "code",
   "execution_count": 3,
   "id": "2d338792-7264-4bf9-8030-ab198b4fc677",
   "metadata": {},
   "outputs": [],
   "source": [
    "result_search = re.search(\"pattern\", r\"string to contain the pattern\")"
   ]
  },
  {
   "cell_type": "code",
   "execution_count": 4,
   "id": "42852b7f-9350-4f0e-9588-27cb9f9a35b9",
   "metadata": {},
   "outputs": [
    {
     "name": "stdout",
     "output_type": "stream",
     "text": [
      "<re.Match object; span=(22, 29), match='pattern'>\n"
     ]
    }
   ],
   "source": [
    "print(result_search)"
   ]
  },
  {
   "cell_type": "code",
   "execution_count": 5,
   "id": "80425bdd-c922-47c3-b9c3-d1e67737fbb5",
   "metadata": {},
   "outputs": [],
   "source": [
    "result_search_2 = re.search(\"pattern\",r\"the phrase to find isn't in this string\")"
   ]
  },
  {
   "cell_type": "code",
   "execution_count": 6,
   "id": "3ec81dc8-6b11-4165-964d-da0452f85373",
   "metadata": {},
   "outputs": [
    {
     "name": "stdout",
     "output_type": "stream",
     "text": [
      "None\n"
     ]
    }
   ],
   "source": [
    "print(result_search_2)"
   ]
  },
  {
   "cell_type": "code",
   "execution_count": 7,
   "id": "47bf9ae1-4f28-4cad-a909-3fbcfc5620c3",
   "metadata": {},
   "outputs": [],
   "source": [
    "string = r\"sara was able to help me find the items i needed quickly\""
   ]
  },
  {
   "cell_type": "code",
   "execution_count": 8,
   "id": "c689643b-251e-4004-904a-ffa2ba5de684",
   "metadata": {},
   "outputs": [
    {
     "name": "stdout",
     "output_type": "stream",
     "text": [
      "Sarah was able to help me find the items i needed quickly\n"
     ]
    }
   ],
   "source": [
    "new_string = re.sub(\"sara\",\"Sarah\", string)\n",
    "print(new_string)"
   ]
  },
  {
   "cell_type": "code",
   "execution_count": 9,
   "id": "0608dd35-b322-4128-a740-7725077f2cb2",
   "metadata": {},
   "outputs": [],
   "source": [
    "customer_reviews = [\"sam was a great help to me in the store\",\n",
    "                   \"the cashier was very rude to me, I think her name was eleanor\",\n",
    "                   \"amazing work form sadeen!\",\n",
    "                   \"sarah was able to help me find the items I needed quickly\",\n",
    "                   \"lucy is such a great addition to the team\",\n",
    "                   \"great service from sara she found me what i wanted\"]"
   ]
  },
  {
   "cell_type": "code",
   "execution_count": 10,
   "id": "ebe2eab5-379a-474d-b4c3-19e4adca1a14",
   "metadata": {},
   "outputs": [],
   "source": [
    "sarahs_reviews = []"
   ]
  },
  {
   "cell_type": "code",
   "execution_count": 11,
   "id": "f6b00f7d-f3fc-46ab-ba5c-84da4b1f9215",
   "metadata": {},
   "outputs": [],
   "source": [
    "pattern_to_find = r\"sarah?\""
   ]
  },
  {
   "cell_type": "code",
   "execution_count": 12,
   "id": "2fa57e53-28ee-48c0-8aa3-3b1521700694",
   "metadata": {},
   "outputs": [],
   "source": [
    "for string in customer_reviews:\n",
    "    if re.search(pattern_to_find, string):\n",
    "        sarahs_reviews.append(string)"
   ]
  },
  {
   "cell_type": "code",
   "execution_count": 13,
   "id": "7447cdbf-840c-42d3-ba51-037f78920837",
   "metadata": {},
   "outputs": [
    {
     "name": "stdout",
     "output_type": "stream",
     "text": [
      "['sarah was able to help me find the items I needed quickly', 'great service from sara she found me what i wanted']\n"
     ]
    }
   ],
   "source": [
    "print(sarahs_reviews)"
   ]
  },
  {
   "cell_type": "code",
   "execution_count": 14,
   "id": "ec1f6749-807f-4423-aa84-756aa22baa4b",
   "metadata": {
    "scrolled": true
   },
   "outputs": [
    {
     "name": "stdout",
     "output_type": "stream",
     "text": [
      "['amazing work form sadeen!']\n"
     ]
    }
   ],
   "source": [
    "a_reviews = []\n",
    "pattern_to_find = r\"^a\"\n",
    "# char ^ indicates the start of a string so ^a looks for start of the string and the letter a\n",
    "\n",
    "for string in customer_reviews:\n",
    "    if re.search(pattern_to_find, string):\n",
    "        a_reviews.append(string)\n",
    "\n",
    "print(a_reviews)"
   ]
  },
  {
   "cell_type": "code",
   "execution_count": 15,
   "id": "5cfd6337-9195-4501-b885-2024a2fa920a",
   "metadata": {},
   "outputs": [
    {
     "name": "stdout",
     "output_type": "stream",
     "text": [
      "['sarah was able to help me find the items I needed quickly']\n"
     ]
    }
   ],
   "source": [
    "y_reviews = []\n",
    "pattern_to_find = r\"y$\"\n",
    "# char $ indicates the end of a string so y$ looks for a string that ends in y\n",
    "\n",
    "for string in customer_reviews:\n",
    "    if re.search(pattern_to_find, string):\n",
    "        y_reviews.append(string)\n",
    "\n",
    "print(y_reviews)"
   ]
  },
  {
   "cell_type": "code",
   "execution_count": 16,
   "id": "fb127ca3-de60-4362-8b5a-dbd221419f55",
   "metadata": {},
   "outputs": [
    {
     "name": "stdout",
     "output_type": "stream",
     "text": [
      "['sarah was able to help me find the items I needed quickly', 'great service from sara she found me what i wanted']\n"
     ]
    }
   ],
   "source": [
    "needwant_reviews = []\n",
    "pattern_to_find = r\"(need|want)ed\"\n",
    "\n",
    "for string in customer_reviews:\n",
    "    if re.search(pattern_to_find, string):\n",
    "        needwant_reviews.append(string)\n",
    "\n",
    "print(needwant_reviews)"
   ]
  },
  {
   "cell_type": "code",
   "execution_count": 17,
   "id": "98632ce3-3c68-4d03-b31b-94590d325a3e",
   "metadata": {},
   "outputs": [
    {
     "name": "stdout",
     "output_type": "stream",
     "text": [
      "['sam was a great help to me in the store', 'the cashier was very rude to me I think her name was eleanor', 'amazing work form sadeen', 'sarah was able to help me find the items I needed quickly', 'lucy is such a great addition to the team', 'great service from sara she found me what i wanted']\n"
     ]
    }
   ],
   "source": [
    "no_punct_reviews = []\n",
    "pattern_to_find = r\"[^\\w\\s]\"\n",
    "# here the ^ is used as \"not\" so ^\\w\\s looks for something that is not a word or (white)space\n",
    "\n",
    "for string in customer_reviews:\n",
    "    no_punct_string = re.sub(pattern_to_find, \"\", string)\n",
    "    no_punct_reviews.append(no_punct_string)\n",
    "print(no_punct_reviews)"
   ]
  },
  {
   "cell_type": "code",
   "execution_count": null,
   "id": "27025e25-0609-4c40-80f9-d5eab84a121e",
   "metadata": {},
   "outputs": [],
   "source": [
    " "
   ]
  }
 ],
 "metadata": {
  "kernelspec": {
   "display_name": "Python [conda env:base] *",
   "language": "python",
   "name": "conda-base-py"
  },
  "language_info": {
   "codemirror_mode": {
    "name": "ipython",
    "version": 3
   },
   "file_extension": ".py",
   "mimetype": "text/x-python",
   "name": "python",
   "nbconvert_exporter": "python",
   "pygments_lexer": "ipython3",
   "version": "3.12.7"
  }
 },
 "nbformat": 4,
 "nbformat_minor": 5
}
