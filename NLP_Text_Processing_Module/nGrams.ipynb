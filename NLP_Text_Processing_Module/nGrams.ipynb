{
 "cells": [
  {
   "cell_type": "code",
   "execution_count": 1,
   "id": "6854277f-0e70-448e-b8d3-53fa52d5a508",
   "metadata": {},
   "outputs": [],
   "source": [
    "#n-gram is a squence of neighboring n words or tokens where n can be any number\n",
    "import nltk\n",
    "import pandas as pd\n",
    "import matplotlib.pyplot as plt"
   ]
  },
  {
   "cell_type": "code",
   "execution_count": 25,
   "id": "4cd24fc1-747c-4866-96c7-e3db02005b00",
   "metadata": {},
   "outputs": [
    {
     "name": "stdout",
     "output_type": "stream",
     "text": [
      "['the', 'rise', 'of', 'artificial', 'intelligence', 'has', 'led', 'to', 'significant', 'advancements', 'in', 'natural', 'language', 'processing', 'computer', 'vision', 'and', 'other', 'fields', 'machine', 'learning', 'algorithms', 'are', 'becoming', 'more', 'sophisticated', 'enabling', 'computers', 'to', 'perform', 'complex', 'tasks', 'that', 'were', 'once', 'thought', 'to', 'be', 'the', 'exclusive', 'domain', 'of', 'humans', 'with', 'the', 'advent', 'of', 'deep', 'learning', 'neural', 'netowrks', 'have', 'become', 'even', 'more', 'powerful', 'capable', 'of', 'processing', 'vast', 'amounts', 'of', 'data', 'and', 'learning', 'from', 'it', 'in', 'ways', 'that', 'were', 'not', 'possible', 'before', 'as', 'a', 'reuslt', 'ai', 'is', 'inclreasingly', 'being', 'used', 'in', 'a', 'wide', 'range', 'of', 'industries', 'from', 'healthcare', 'to', 'finance', 'to', 'transportation', 'and', 'its', 'impact', 'is', 'only', 'set', 'to', 'grow', 'in', 'the', 'years', 'to', 'come']\n"
     ]
    }
   ],
   "source": [
    "tokens = ['the', 'rise', 'of', 'artificial', 'intelligence', 'has', 'led', 'to', 'significant', 'advancements',\n",
    "         'in', 'natural', 'language', 'processing', 'computer', 'vision', 'and', 'other', 'fields', 'machine',\n",
    "         'learning', 'algorithms', 'are', 'becoming', 'more', 'sophisticated', 'enabling', 'computers', 'to',\n",
    "         'perform', 'complex', 'tasks', 'that', 'were', 'once', 'thought', 'to', 'be', 'the', 'exclusive', 'domain',\n",
    "         'of', 'humans', 'with', 'the', 'advent', 'of', 'deep', 'learning', 'neural', 'netowrks', 'have', 'become',\n",
    "         'even', 'more', 'powerful', 'capable', 'of', 'processing', 'vast', 'amounts', 'of', 'data', 'and',\n",
    "         'learning', 'from', 'it', 'in', 'ways', 'that', 'were', 'not', 'possible', 'before', 'as', 'a', 'reuslt',\n",
    "         'ai', 'is', 'inclreasingly', 'being', 'used', 'in', 'a', 'wide', 'range', 'of', 'industries', 'from',\n",
    "         'healthcare', 'to', 'finance', 'to', 'transportation', 'and', 'its', 'impact', 'is', 'only', 'set', 'to',\n",
    "         'grow', 'in', 'the', 'years', 'to', 'come']\n",
    "print(tokens)"
   ]
  },
  {
   "cell_type": "code",
   "execution_count": 27,
   "id": "defc5133-6c24-4690-ab58-07b1c83988c5",
   "metadata": {},
   "outputs": [
    {
     "name": "stdout",
     "output_type": "stream",
     "text": [
      "(to,)          7\n",
      "(of,)          6\n",
      "(the,)         4\n",
      "(in,)          4\n",
      "(learning,)    3\n",
      "(and,)         3\n",
      "(from,)        2\n",
      "(more,)        2\n",
      "(is,)          2\n",
      "(that,)        2\n",
      "Name: count, dtype: int64\n"
     ]
    }
   ],
   "source": [
    "unigrams = (pd.Series(nltk.ngrams(tokens, 1)).value_counts())\n",
    "print(unigrams[:10])"
   ]
  },
  {
   "cell_type": "code",
   "execution_count": 39,
   "id": "6c15fd0b-3ade-48b5-a340-490d58bc6d7c",
   "metadata": {},
   "outputs": [
    {
     "data": {
      "text/plain": [
       "Text(0.5, 1.0, '10 Most Frequently Occuring Unigrams')"
      ]
     },
     "execution_count": 39,
     "metadata": {},
     "output_type": "execute_result"
    },
    {
     "data": {
      "image/png": "[encoded data removed]",
      "text/plain": [
       "<Figure size 1200x800 with 1 Axes>"
      ]
     },
     "metadata": {},
     "output_type": "display_data"
    }
   ],
   "source": [
    "unigrams[:10].sort_values().plot.barh(color=\"lightblue\", width=.9, figsize=(12,8))\n",
    "plt.title(\"10 Most Frequently Occuring Unigrams\")"
   ]
  },
  {
   "cell_type": "code",
   "execution_count": 43,
   "id": "13fc5d9d-9e32-4872-bf93-388085d743a0",
   "metadata": {},
   "outputs": [
    {
     "name": "stdout",
     "output_type": "stream",
     "text": [
      "(that, were)              2\n",
      "(the, rise)               1\n",
      "(inclreasingly, being)    1\n",
      "(ai, is)                  1\n",
      "(reuslt, ai)              1\n",
      "(a, reuslt)               1\n",
      "(as, a)                   1\n",
      "(before, as)              1\n",
      "(possible, before)        1\n",
      "(not, possible)           1\n",
      "Name: count, dtype: int64\n"
     ]
    }
   ],
   "source": [
    "#common occurances of neighboring pairs of words\n",
    "bigrams = (pd.Series(nltk.ngrams(tokens, 2)).value_counts())\n",
    "print(bigrams[:10])"
   ]
  },
  {
   "cell_type": "code",
   "execution_count": 47,
   "id": "bfc2ba1a-9680-4a1b-b27e-5706ee50dfb7",
   "metadata": {},
   "outputs": [
    {
     "name": "stdout",
     "output_type": "stream",
     "text": [
      "(the, rise, of)            1\n",
      "(even, more, powerful)     1\n",
      "(ai, is, inclreasingly)    1\n",
      "(reuslt, ai, is)           1\n",
      "(a, reuslt, ai)            1\n",
      "(as, a, reuslt)            1\n",
      "(before, as, a)            1\n",
      "(possible, before, as)     1\n",
      "(not, possible, before)    1\n",
      "(were, not, possible)      1\n",
      "Name: count, dtype: int64\n"
     ]
    }
   ],
   "source": [
    "trigrams = (pd.Series(nltk.ngrams(tokens, 3)).value_counts())\n",
    "print(trigrams[:10])"
   ]
  },
  {
   "cell_type": "code",
   "execution_count": 49,
   "id": "92db87c0-45cc-4e3d-ae34-2291ba3d82f4",
   "metadata": {},
   "outputs": [],
   "source": [
    "# ngrams is the term used for n value > 3"
   ]
  },
  {
   "cell_type": "code",
   "execution_count": null,
   "id": "307fc634-5ee0-417d-a9ce-f9581c4f81a0",
   "metadata": {},
   "outputs": [],
   "source": []
  }
 ],
 "metadata": {
  "kernelspec": {
   "display_name": "Python [conda env:base] *",
   "language": "python",
   "name": "conda-base-py"
  },
  "language_info": {
   "codemirror_mode": {
    "name": "ipython",
    "version": 3
   },
   "file_extension": ".py",
   "mimetype": "text/x-python",
   "name": "python",
   "nbconvert_exporter": "python",
   "pygments_lexer": "ipython3",
   "version": "3.12.7"
  }
 },
 "nbformat": 4,
 "nbformat_minor": 5
}
