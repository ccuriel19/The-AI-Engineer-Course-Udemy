{
 "cells": [
  {
   "cell_type": "code",
   "execution_count": 3,
   "id": "c04637a7-0167-4ff7-8eaa-d5f3bd4b082e",
   "metadata": {},
   "outputs": [],
   "source": [
    "from nltk.stem import PorterStemmer"
   ]
  },
  {
   "cell_type": "code",
   "execution_count": 5,
   "id": "24448790-a3e4-48e3-bb4e-107a35c2295f",
   "metadata": {},
   "outputs": [],
   "source": [
    "ps = PorterStemmer()"
   ]
  },
  {
   "cell_type": "code",
   "execution_count": 7,
   "id": "a480d87c-01c0-4141-9768-7258e35e4488",
   "metadata": {},
   "outputs": [],
   "source": [
    "connect_tokens = ['connecting', 'connected', 'connectivity', 'connect', 'connects']"
   ]
  },
  {
   "cell_type": "code",
   "execution_count": 13,
   "id": "c110ceed-0d66-4b29-9187-6454547ed286",
   "metadata": {},
   "outputs": [
    {
     "name": "stdout",
     "output_type": "stream",
     "text": [
      "connecting : connect\n",
      "connected : connect\n",
      "connectivity : connect\n",
      "connect : connect\n",
      "connects : connect\n"
     ]
    }
   ],
   "source": [
    "for t in connect_tokens:\n",
    "    print(t, \":\", ps.stem(t))"
   ]
  },
  {
   "cell_type": "code",
   "execution_count": 15,
   "id": "5afd0ba5-c0bf-4abf-a5ae-98d7b245d9b4",
   "metadata": {},
   "outputs": [],
   "source": [
    "learn_tokens = ['learned', 'learning', 'learn', 'learns', 'learner', 'learners']"
   ]
  },
  {
   "cell_type": "code",
   "execution_count": 19,
   "id": "eb8f8eee-1111-4c81-adb3-2b7a222b0444",
   "metadata": {},
   "outputs": [
    {
     "name": "stdout",
     "output_type": "stream",
     "text": [
      "learned : learn\n",
      "learning : learn\n",
      "learn : learn\n",
      "learns : learn\n",
      "learner : learner\n",
      "learners : learner\n"
     ]
    }
   ],
   "source": [
    "for t in learn_tokens:\n",
    "    print(t, \":\", ps.stem(t))"
   ]
  },
  {
   "cell_type": "code",
   "execution_count": 21,
   "id": "a429f06a-48b4-4c43-b478-5850142ef13f",
   "metadata": {},
   "outputs": [
    {
     "name": "stdout",
     "output_type": "stream",
     "text": [
      "likes : like\n",
      "better : better\n",
      "worse : wors\n"
     ]
    }
   ],
   "source": [
    "likes_tokens = ['likes', 'better', 'worse']\n",
    "\n",
    "for t in likes_tokens:\n",
    "    print(t, \":\", ps.stem(t))"
   ]
  },
  {
   "cell_type": "code",
   "execution_count": null,
   "id": "c131ee07-2268-424a-a28b-08daed1f011d",
   "metadata": {},
   "outputs": [],
   "source": []
  }
 ],
 "metadata": {
  "kernelspec": {
   "display_name": "Python [conda env:base] *",
   "language": "python",
   "name": "conda-base-py"
  },
  "language_info": {
   "codemirror_mode": {
    "name": "ipython",
    "version": 3
   },
   "file_extension": ".py",
   "mimetype": "text/x-python",
   "name": "python",
   "nbconvert_exporter": "python",
   "pygments_lexer": "ipython3",
   "version": "3.12.7"
  }
 },
 "nbformat": 4,
 "nbformat_minor": 5
}
